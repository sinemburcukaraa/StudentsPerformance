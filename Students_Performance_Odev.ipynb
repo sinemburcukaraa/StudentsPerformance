{
 "cells": [
  {
   "cell_type": "code",
   "execution_count": 4,
   "id": "33ee41d8",
   "metadata": {},
   "outputs": [],
   "source": [
    "import pandas as pd\n",
    "import matplotlib.pyplot as plt\n",
    "import seaborn as sns"
   ]
  },
  {
   "cell_type": "code",
   "execution_count": 5,
   "id": "a68051e2",
   "metadata": {},
   "outputs": [
    {
     "data": {
      "text/html": [
       "<div>\n",
       "<style scoped>\n",
       "    .dataframe tbody tr th:only-of-type {\n",
       "        vertical-align: middle;\n",
       "    }\n",
       "\n",
       "    .dataframe tbody tr th {\n",
       "        vertical-align: top;\n",
       "    }\n",
       "\n",
       "    .dataframe thead th {\n",
       "        text-align: right;\n",
       "    }\n",
       "</style>\n",
       "<table border=\"1\" class=\"dataframe\">\n",
       "  <thead>\n",
       "    <tr style=\"text-align: right;\">\n",
       "      <th></th>\n",
       "      <th>gender</th>\n",
       "      <th>race/ethnicity</th>\n",
       "      <th>parental level of education</th>\n",
       "      <th>lunch</th>\n",
       "      <th>test preparation course</th>\n",
       "      <th>math score</th>\n",
       "      <th>reading score</th>\n",
       "      <th>writing score</th>\n",
       "    </tr>\n",
       "  </thead>\n",
       "  <tbody>\n",
       "    <tr>\n",
       "      <th>0</th>\n",
       "      <td>female</td>\n",
       "      <td>group B</td>\n",
       "      <td>bachelor's degree</td>\n",
       "      <td>standard</td>\n",
       "      <td>none</td>\n",
       "      <td>72</td>\n",
       "      <td>72</td>\n",
       "      <td>74</td>\n",
       "    </tr>\n",
       "    <tr>\n",
       "      <th>1</th>\n",
       "      <td>female</td>\n",
       "      <td>group C</td>\n",
       "      <td>some college</td>\n",
       "      <td>standard</td>\n",
       "      <td>completed</td>\n",
       "      <td>69</td>\n",
       "      <td>90</td>\n",
       "      <td>88</td>\n",
       "    </tr>\n",
       "    <tr>\n",
       "      <th>2</th>\n",
       "      <td>female</td>\n",
       "      <td>group B</td>\n",
       "      <td>master's degree</td>\n",
       "      <td>standard</td>\n",
       "      <td>none</td>\n",
       "      <td>90</td>\n",
       "      <td>95</td>\n",
       "      <td>93</td>\n",
       "    </tr>\n",
       "    <tr>\n",
       "      <th>3</th>\n",
       "      <td>male</td>\n",
       "      <td>group A</td>\n",
       "      <td>associate's degree</td>\n",
       "      <td>free/reduced</td>\n",
       "      <td>none</td>\n",
       "      <td>47</td>\n",
       "      <td>57</td>\n",
       "      <td>44</td>\n",
       "    </tr>\n",
       "    <tr>\n",
       "      <th>4</th>\n",
       "      <td>male</td>\n",
       "      <td>group C</td>\n",
       "      <td>some college</td>\n",
       "      <td>standard</td>\n",
       "      <td>none</td>\n",
       "      <td>76</td>\n",
       "      <td>78</td>\n",
       "      <td>75</td>\n",
       "    </tr>\n",
       "  </tbody>\n",
       "</table>\n",
       "</div>"
      ],
      "text/plain": [
       "   gender race/ethnicity parental level of education         lunch  \\\n",
       "0  female        group B           bachelor's degree      standard   \n",
       "1  female        group C                some college      standard   \n",
       "2  female        group B             master's degree      standard   \n",
       "3    male        group A          associate's degree  free/reduced   \n",
       "4    male        group C                some college      standard   \n",
       "\n",
       "  test preparation course  math score  reading score  writing score  \n",
       "0                    none          72             72             74  \n",
       "1               completed          69             90             88  \n",
       "2                    none          90             95             93  \n",
       "3                    none          47             57             44  \n",
       "4                    none          76             78             75  "
      ]
     },
     "execution_count": 5,
     "metadata": {},
     "output_type": "execute_result"
    }
   ],
   "source": [
    "#1\n",
    "df = pd.read_csv(\"StudentsPerformance.csv\")\n",
    "df.head()"
   ]
  },
  {
   "cell_type": "code",
   "execution_count": 6,
   "id": "d0ddb1a7",
   "metadata": {},
   "outputs": [
    {
     "name": "stdout",
     "output_type": "stream",
     "text": [
      "Veri setindeki kadın sayısı: 518\n",
      "Veri setindeki erkek sayısı: 482\n"
     ]
    }
   ],
   "source": [
    "#2\n",
    "#kadın-erkek sayısına bakalım\n",
    "female = df[df['gender'] == 'female'].shape[0]\n",
    "print(f\"Veri setindeki kadın sayısı: {female}\")\n",
    "\n",
    "male = df[df['gender'] == 'male'].shape[0]\n",
    "print(f\"Veri setindeki erkek sayısı: {male}\")"
   ]
  },
  {
   "cell_type": "code",
   "execution_count": 7,
   "id": "4810eaaf",
   "metadata": {},
   "outputs": [
    {
     "data": {
      "image/png": "[encoded data removed]",
      "text/plain": [
       "<Figure size 640x480 with 1 Axes>"
      ]
     },
     "metadata": {},
     "output_type": "display_data"
    }
   ],
   "source": [
    "#3\n",
    "#kadın-erkek sayısına histogram grafiği ile bakalım\n",
    "cinsiyet_sayilari = df['gender'].value_counts()\n",
    "\n",
    "# Histogram grafiğini oluştur\n",
    "plt.bar(cinsiyet_sayilari.index, cinsiyet_sayilari.values, color=['#FF69B4', '#1E90FF'])\n",
    "plt.xlabel('Cinsiyet')\n",
    "plt.ylabel('Kişi Sayısı')\n",
    "plt.title('Kadın ve Erkek Sayısı')\n",
    "plt.show()"
   ]
  },
  {
   "cell_type": "code",
   "execution_count": 24,
   "id": "0ddc0277",
   "metadata": {},
   "outputs": [
    {
     "name": "stdout",
     "output_type": "stream",
     "text": [
      "'race/ethnicity' sütununda 5 farklı grup var.\n",
      "Gruplar:\n",
      "group B\n",
      "group C\n",
      "group A\n",
      "group D\n",
      "group E\n"
     ]
    }
   ],
   "source": [
    "#4\n",
    "#race/ethnicity sütununda kaç farklı grup olduğuna bakalım\n",
    "unique_groups = df['race/ethnicity'].unique()\n",
    "num_groups = len(unique_groups)\n",
    "\n",
    "print(f\"'race/ethnicity' sütununda {num_groups} farklı grup var.\")\n",
    "print(\"Gruplar:\")\n",
    "for group in unique_groups:\n",
    "    print(group)"
   ]
  },
  {
   "cell_type": "code",
   "execution_count": 26,
   "id": "dceebc62",
   "metadata": {},
   "outputs": [
    {
     "data": {
      "text/plain": [
       "race/ethnicity\n",
       "group C    319\n",
       "group D    262\n",
       "group B    190\n",
       "group E    140\n",
       "group A     89\n",
       "Name: count, dtype: int64"
      ]
     },
     "execution_count": 26,
     "metadata": {},
     "output_type": "execute_result"
    }
   ],
   "source": [
    "race = df[\"race/ethnicity\"].value_counts()\n",
    "race"
   ]
  },
  {
   "cell_type": "code",
   "execution_count": 30,
   "id": "238e8a54",
   "metadata": {},
   "outputs": [
    {
     "data": {
      "image/png": "[encoded data removed]",
      "text/plain": [
       "<Figure size 1000x600 with 1 Axes>"
      ]
     },
     "metadata": {},
     "output_type": "display_data"
    }
   ],
   "source": [
    "#5\n",
    "#yukarıda bulduğumuzu görselleştirelim\n",
    "plt.figure(figsize=(10, 6))\n",
    "plt.bar(race.index, race.values, color='skyblue')  \n",
    "plt.xlabel('Race/Ethnicity') \n",
    "plt.ylabel('Count') \n",
    "plt.title('Distribution of Race/Ethnicity')  \n",
    "plt.xticks(rotation=45)  \n",
    "plt.tight_layout()\n",
    "plt.show()"
   ]
  },
  {
   "cell_type": "code",
   "execution_count": 34,
   "id": "f853caba",
   "metadata": {},
   "outputs": [
    {
     "name": "stdout",
     "output_type": "stream",
     "text": [
      "Parental Level of Education sütunundaki eşsiz değerler:\n",
      "bachelor's degree\n",
      "some college\n",
      "master's degree\n",
      "associate's degree\n",
      "high school\n",
      "some high school\n"
     ]
    }
   ],
   "source": [
    "#6\n",
    "#parental level of education sütunundaki eşsiz değerleri bulalım\n",
    "unique_education_levels=df[\"parental level of education\"].unique()\n",
    "print(\"Parental Level of Education sütunundaki eşsiz değerler:\")\n",
    "for level in unique_education_levels:\n",
    "    print(level)"
   ]
  },
  {
   "cell_type": "code",
   "execution_count": 36,
   "id": "5adac7c8",
   "metadata": {},
   "outputs": [
    {
     "data": {
      "text/plain": [
       "parental level of education\n",
       "some college          226\n",
       "associate's degree    222\n",
       "high school           196\n",
       "some high school      179\n",
       "bachelor's degree     118\n",
       "master's degree        59\n",
       "Name: count, dtype: int64"
      ]
     },
     "execution_count": 36,
     "metadata": {},
     "output_type": "execute_result"
    }
   ],
   "source": [
    "df[\"parental level of education\"].value_counts()"
   ]
  },
  {
   "cell_type": "code",
   "execution_count": 46,
   "id": "ed8a3d98",
   "metadata": {},
   "outputs": [
    {
     "name": "stdout",
     "output_type": "stream",
     "text": [
      "lunch sütunundaki eşsiz değerler:\n",
      "standard\n",
      "free/reduced\n"
     ]
    }
   ],
   "source": [
    "#7\n",
    "#lunch sütununda eşsiz değerlere ulaşalım\n",
    "lunch = df[\"lunch\"].unique()\n",
    "print(\"lunch sütunundaki eşsiz değerler:\")\n",
    "for level in unique_education_levels:\n",
    "    print(level)"
   ]
  },
  {
   "cell_type": "code",
   "execution_count": 50,
   "id": "5e482872",
   "metadata": {},
   "outputs": [
    {
     "data": {
      "text/plain": [
       "lunch\n",
       "standard        645\n",
       "free/reduced    355\n",
       "Name: count, dtype: int64"
      ]
     },
     "execution_count": 50,
     "metadata": {},
     "output_type": "execute_result"
    }
   ],
   "source": [
    "#8\n",
    "#lunch türlerinde kaçar kişi olduğunu bulalım\n",
    "df[\"lunch\"].value_counts()"
   ]
  },
  {
   "cell_type": "code",
   "execution_count": 52,
   "id": "266cf2a8",
   "metadata": {},
   "outputs": [
    {
     "data": {
      "text/plain": [
       "test preparation course\n",
       "none         642\n",
       "completed    358\n",
       "Name: count, dtype: int64"
      ]
     },
     "execution_count": 52,
     "metadata": {},
     "output_type": "execute_result"
    }
   ],
   "source": [
    "df[\"test preparation course\"].value_counts()"
   ]
  },
  {
   "cell_type": "code",
   "execution_count": 58,
   "id": "a781b74d",
   "metadata": {},
   "outputs": [
    {
     "name": "stdout",
     "output_type": "stream",
     "text": [
      "Cinsiyetlere göre ortalama skorlar:\n",
      "        math score  reading score  writing score\n",
      "gender                                          \n",
      "female   63.633205      72.608108      72.467181\n",
      "male     68.728216      65.473029      63.311203\n"
     ]
    }
   ],
   "source": [
    "#9\n",
    "#gender sütunundaki değerler için ortalama math score, reading score, writing score değerlerini bulalım.\n",
    "average_scores = df.groupby('gender')[['math score','reading score','writing score']].mean()\n",
    "\n",
    "print(\"Cinsiyetlere göre ortalama skorlar:\")\n",
    "print(average_scores)"
   ]
  },
  {
   "cell_type": "code",
   "execution_count": 64,
   "id": "21baad42",
   "metadata": {},
   "outputs": [
    {
     "name": "stdout",
     "output_type": "stream",
     "text": [
      "Cinsiyetlere göre ortalama skorlar:\n",
      "                math score  reading score  writing score\n",
      "race/ethnicity                                          \n",
      "group A          61.629213      64.674157      62.674157\n",
      "group B          63.452632      67.352632      65.600000\n",
      "group C          64.463950      69.103448      67.827586\n",
      "group D          67.362595      70.030534      70.145038\n",
      "group E          73.821429      73.028571      71.407143\n"
     ]
    }
   ],
   "source": [
    "#10\n",
    "#race/ethnicity sütunundaki değerler için ortalama math score, reading score, writing score değerlerini bulalım.\n",
    "average_scores = df.groupby('race/ethnicity')[['math score','reading score','writing score']].mean()\n",
    "\n",
    "print(\"Cinsiyetlere göre ortalama skorlar:\")\n",
    "print(average_scores)"
   ]
  },
  {
   "cell_type": "code",
   "execution_count": 66,
   "id": "2b6515b8",
   "metadata": {},
   "outputs": [
    {
     "name": "stdout",
     "output_type": "stream",
     "text": [
      "Cinsiyetlere göre ortalama skorlar:\n",
      "                             math score  reading score  writing score\n",
      "parental level of education                                          \n",
      "associate's degree            67.882883      70.927928      69.896396\n",
      "bachelor's degree             69.389831      73.000000      73.381356\n",
      "high school                   62.137755      64.704082      62.448980\n",
      "master's degree               69.745763      75.372881      75.677966\n",
      "some college                  67.128319      69.460177      68.840708\n",
      "some high school              63.497207      66.938547      64.888268\n"
     ]
    }
   ],
   "source": [
    "#11\n",
    "#parental level of education sütunundaki değerler için ortalama math score, reading score, writing score değerlerini bulalım.\n",
    "average_scores = df.groupby('parental level of education')[['math score','reading score','writing score']].mean()\n",
    "\n",
    "print(\"Cinsiyetlere göre ortalama skorlar:\")\n",
    "print(average_scores)"
   ]
  },
  {
   "cell_type": "code",
   "execution_count": 74,
   "id": "0fef018d",
   "metadata": {},
   "outputs": [
    {
     "name": "stdout",
     "output_type": "stream",
     "text": [
      "Cinsiyetlere göre ortalama skorlar:\n",
      "              math score  reading score  writing score\n",
      "lunch                                                 \n",
      "free/reduced   58.921127      64.653521      63.022535\n",
      "standard       70.034109      71.654264      70.823256\n"
     ]
    }
   ],
   "source": [
    "#12\n",
    "#lunch sütunundaki değerler için ortalama math score, reading score, writing score değerlerini bulalım.\n",
    "average_scores = df.groupby('lunch')[['math score','reading score','writing score']].mean()\n",
    "\n",
    "print(\"Cinsiyetlere göre ortalama skorlar:\")\n",
    "print(average_scores)"
   ]
  },
  {
   "cell_type": "code",
   "execution_count": 76,
   "id": "b3cd6869",
   "metadata": {},
   "outputs": [
    {
     "name": "stdout",
     "output_type": "stream",
     "text": [
      "Cinsiyetlere göre ortalama skorlar:\n",
      "                         math score  reading score  writing score\n",
      "test preparation course                                          \n",
      "completed                 69.695531      73.893855      74.418994\n",
      "none                      64.077882      66.534268      64.504673\n"
     ]
    }
   ],
   "source": [
    "#13\n",
    "#test preparation course sütunundaki değerler için ortalama math score, reading score, writing score değerlerini bulalım.\n",
    "average_scores = df.groupby('test preparation course')[['math score','reading score','writing score']].mean()\n",
    "\n",
    "print(\"Cinsiyetlere göre ortalama skorlar:\")\n",
    "print(average_scores)"
   ]
  },
  {
   "cell_type": "code",
   "execution_count": null,
   "id": "0cf3de95",
   "metadata": {},
   "outputs": [],
   "source": []
  }
 ],
 "metadata": {
  "kernelspec": {
   "display_name": "Python 3 (ipykernel)",
   "language": "python",
   "name": "python3"
  },
  "language_info": {
   "codemirror_mode": {
    "name": "ipython",
    "version": 3
   },
   "file_extension": ".py",
   "mimetype": "text/x-python",
   "name": "python",
   "nbconvert_exporter": "python",
   "pygments_lexer": "ipython3",
   "version": "3.12.4"
  }
 },
 "nbformat": 4,
 "nbformat_minor": 5
}
